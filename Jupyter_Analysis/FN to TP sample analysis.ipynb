{
 "cells": [
  {
   "cell_type": "code",
   "execution_count": 1,
   "id": "9b172e51",
   "metadata": {},
   "outputs": [],
   "source": [
    "import sklearn.metrics as skm\n",
    "import sys\n",
    "import numpy as np\n",
    "from sklearn.metrics import roc_curve\n",
    "from sklearn.metrics import RocCurveDisplay\n",
    "import matplotlib.pyplot as plt\n",
    "\n",
    "# ssl_features_train = np.load(\"./old_but_full_features/self_supervised_cifar100/features_train2.npy\")\n",
    "# ssl_labels_train = np.load(\"./old_but_full_features/self_supervised_cifar100/labels_train2.npy\")\n",
    "# ssl_features_test = np.load(\"./old_but_full_features/self_supervised_cifar100/features_test2.npy\")\n",
    "# ssl_features_ood = np.load(\"./old_but_full_features/self_supervised_cifar100/features_ood2.npy\")\n",
    "\n",
    "\n",
    "# sp_features_train = np.load(\"./old_but_full_features/supervised_cifar100/features_train2.npy\")\n",
    "# sp_labels_train = np.load(\"./old_but_full_features/supervised_cifar100/labels_train2.npy\")\n",
    "# sp_features_test = np.load(\"./old_but_full_features/supervised_cifar100/features_test2.npy\")\n",
    "# sp_features_ood = np.load(\"./old_but_full_features/supervised_cifar100/features_ood2.npy\")\n",
    "\n",
    "\n",
    "\n",
    "ssl_features_train = np.load(\"./self_supervised_cifar100/features_train.npy\")\n",
    "ssl_labels_train = np.load(\"./self_supervised_cifar100/labels_train.npy\")\n",
    "ssl_features_test = np.load(\"./self_supervised_cifar100/features_test.npy\")\n",
    "ssl_features_ood = np.load(\"./self_supervised_cifar100/features_ood.npy\")\n",
    "\n",
    "\n",
    "sp_features_train = np.load(\"./supervised_cifar100/features_train.npy\")\n",
    "sp_labels_train = np.load(\"./supervised_cifar100/labels_train.npy\")\n",
    "sp_features_test = np.load(\"./supervised_cifar100/features_test.npy\")\n",
    "sp_features_ood = np.load(\"./supervised_cifar100/features_ood.npy\")"
   ]
  },
  {
   "cell_type": "code",
   "execution_count": 2,
   "id": "d866a84d",
   "metadata": {},
   "outputs": [],
   "source": [
    "# -- calculate SL and SSL score separately\n",
    "\n",
    "\n",
    "import sklearn.metrics as skm\n",
    "import sys\n",
    "import numpy as np\n",
    "from sklearn.metrics import roc_curve\n",
    "from sklearn.metrics import RocCurveDisplay\n",
    "import matplotlib.pyplot as plt\n",
    "\n",
    "def get_roc_sklearn(xin, xood):\n",
    "    labels = [0] * len(xin) + [1] * len(xood)\n",
    "    data = np.concatenate((xin, xood))\n",
    "    auroc = skm.roc_auc_score(labels, data)\n",
    "    return auroc\n",
    "\n",
    "\n",
    "def get_scores_multi_cluster(ftrain, ftest, food, ypred):\n",
    "    print(\"using multiple clusters\")\n",
    "    xc = [ftrain[ypred == i] for i in np.unique(ypred)]\n",
    "    \n",
    "\n",
    "    din = [\n",
    "        np.sum(\n",
    "            (ftest - np.mean(x, axis=0, keepdims=True))\n",
    "            * (\n",
    "                np.linalg.pinv(np.cov(x.T, bias=True)).dot(\n",
    "                    (ftest - np.mean(x, axis=0, keepdims=True)).T\n",
    "                )\n",
    "            ).T,\n",
    "            axis=-1,\n",
    "        )\n",
    "        for x in xc\n",
    "    ]\n",
    "    dood = [\n",
    "        np.sum(\n",
    "            (food - np.mean(x, axis=0, keepdims=True))\n",
    "            * (\n",
    "                np.linalg.pinv(np.cov(x.T, bias=True)).dot(\n",
    "                    (food - np.mean(x, axis=0, keepdims=True)).T\n",
    "                )\n",
    "            ).T,\n",
    "            axis=-1,\n",
    "        )\n",
    "        for x in xc\n",
    "    ]\n",
    "#     print(\"din shape is looking like:\", din)\n",
    "    din_index = np.argmin(din, axis = 0)\n",
    "    \n",
    "    din = np.min(din, axis=0)\n",
    "    \n",
    "    dood_index = np.argmin(dood, axis = 0)\n",
    "    dood = np.min(dood, axis=0)\n",
    "\n",
    "    return din, dood, din_index, dood_index\n",
    "\n",
    "def get_scores(ftrain, ftest, food, labelstrain, cluster):\n",
    "\n",
    "    # standardize data\n",
    "    print(\"ftrain size is:\", ftrain.shape)\n",
    "    ftrain /= np.linalg.norm(ftrain, axis=-1, keepdims=True) + 1e-10\n",
    "    ftest /= np.linalg.norm(ftest, axis=-1, keepdims=True) + 1e-10\n",
    "    food /= np.linalg.norm(food, axis=-1, keepdims=True) + 1e-10\n",
    "\n",
    "    m, s = np.mean(ftrain, axis=0, keepdims=True), np.std(ftrain, axis=0, keepdims=True)\n",
    "\n",
    "    ftrain = (ftrain - m) / (s + 1e-10)\n",
    "    ftest = (ftest - m) / (s + 1e-10)\n",
    "    food = (food - m) / (s + 1e-10)\n",
    "    \n",
    "    return get_scores_multi_cluster(ftrain, ftest, food, labelstrain)   # for supervised learning\n",
    "\n",
    "def get_eval_results(dtest, dood):\n",
    "    \"\"\"\n",
    "    None.\n",
    "    \"\"\"\n",
    "\n",
    "    auroc = get_roc_sklearn(dtest, dood)\n",
    "    return auroc"
   ]
  },
  {
   "cell_type": "code",
   "execution_count": 3,
   "id": "f92d82b9",
   "metadata": {},
   "outputs": [
    {
     "name": "stdout",
     "output_type": "stream",
     "text": [
      "ftrain size is: (5000, 2048)\n",
      "using multiple clusters\n",
      "ftrain size is: (5000, 2048)\n",
      "using multiple clusters\n"
     ]
    }
   ],
   "source": [
    "#calculate score of id test samples and ood test samples\n",
    "\n",
    "# Get features --> individual cluster (self-sp and sp) --> calcualte score\n",
    "\n",
    "ssl_din, ssl_dout, ssl_idxin, ssl_idxood = get_scores(ssl_features_train, ssl_features_test, ssl_features_ood, ssl_labels_train, cluster = 10)\n",
    "\n",
    "sp_din, sp_dout, sp_idxin, sp_idxood = get_scores(sp_features_train, sp_features_test, sp_features_ood, sp_labels_train, cluster = 10)\n"
   ]
  },
  {
   "cell_type": "code",
   "execution_count": 29,
   "id": "cfcbecff",
   "metadata": {},
   "outputs": [
    {
     "name": "stdout",
     "output_type": "stream",
     "text": [
      "AUROC is: 0.85158188\n",
      "AUROC is: 0.87471592\n"
     ]
    }
   ],
   "source": [
    "auroc = get_eval_results(ssl_din, ssl_dout)\n",
    "\n",
    "print(\"AUROC is:\", auroc)\n",
    "\n",
    "auroc = get_eval_results(sp_din, sp_dout)\n",
    "\n",
    "print(\"AUROC is:\", auroc)\n"
   ]
  },
  {
   "cell_type": "code",
   "execution_count": 5,
   "id": "e1622b29",
   "metadata": {},
   "outputs": [],
   "source": [
    "np.save(\"./self_supervised_cifar100/ssl_test_score.npy\",ssl_din)\n",
    "np.save(\"./self_supervised_cifar100/ssl_ood_score.npy\",ssl_dout)\n",
    "np.save(\"./supervised_cifar100/sl_test_score.npy\",sp_din)\n",
    "np.save(\"./supervised_cifar100/sl_ood_score.npy\",sp_dout)\n",
    "np.save(\"./supervised_cifar100/sl_ood_minlabels.npy\",sp_idxood)\n",
    "np.save(\"./supervised_cifar100/sl_test_minlabels.npy\",sp_idxin)\n",
    "np.save(\"./self_supervised_cifar100/ssl_ood_minlabels.npy\",ssl_idxood)\n",
    "np.save(\"./self_supervised_cifar100/ssl_test_minlabels.npy\",ssl_idxin)\n",
    "\n"
   ]
  },
  {
   "cell_type": "code",
   "execution_count": 6,
   "id": "ec5fc629",
   "metadata": {},
   "outputs": [],
   "source": [
    "# np.save(\"./old_but_full_features/self_supervised_cifar100/ssl_test_score.npy\",ssl_din)\n",
    "# np.save(\"./old_but_full_features/self_supervised_cifar100/ssl_ood_score.npy\",ssl_dout)\n",
    "# np.save(\"./old_but_full_features/supervised_cifar100/sl_test_score.npy\",sp_din)\n",
    "# np.save(\"./old_but_full_features/supervised_cifar100/sl_ood_score.npy\",sp_dout)\n"
   ]
  },
  {
   "cell_type": "code",
   "execution_count": 7,
   "id": "799c0c6a",
   "metadata": {},
   "outputs": [
    {
     "name": "stdout",
     "output_type": "stream",
     "text": [
      "ftrain size is: (5000, 2048)\n",
      "mean value is: 0.010127474\n",
      "std value is: 0.01841798\n",
      "ftrain size is: (5000, 2048)\n",
      "mean value is: 0.011216093\n",
      "std value is: 0.01259813\n",
      "new fl_feature_train size is: (5000, 2048)\n",
      "using multiple clusters\n"
     ]
    }
   ],
   "source": [
    "# calculate score for combined feature\n",
    "\n",
    "\n",
    "\n",
    "ssl_features_train = np.load(\"./self_supervised_cifar100/features_train.npy\")\n",
    "ssl_labels_train = np.load(\"./self_supervised_cifar100/labels_train.npy\")\n",
    "ssl_features_test = np.load(\"./self_supervised_cifar100/features_test.npy\")\n",
    "ssl_features_ood = np.load(\"./self_supervised_cifar100/features_ood.npy\")\n",
    "\n",
    "\n",
    "sp_features_train = np.load(\"./supervised_cifar100/features_train.npy\")\n",
    "sp_labels_train = np.load(\"./supervised_cifar100/labels_train.npy\")\n",
    "sp_features_test = np.load(\"./supervised_cifar100/features_test.npy\")\n",
    "sp_features_ood = np.load(\"./supervised_cifar100/features_ood.npy\")\n",
    "\n",
    "\n",
    "\n",
    "import matplotlib.pyplot as plt\n",
    "\n",
    "def dnorm(ftrain, ftest, food):\n",
    "    \n",
    "    print(\"ftrain size is:\", ftrain.shape)\n",
    "    ftrain /= np.linalg.norm(ftrain, axis=-1, keepdims=True) + 1e-10\n",
    "    ftest /= np.linalg.norm(ftest, axis=-1, keepdims=True) + 1e-10\n",
    "    food /= np.linalg.norm(food, axis=-1, keepdims=True) + 1e-10\n",
    "\n",
    "    m, s = np.mean(ftrain, axis=0, keepdims=True), np.std(ftrain, axis=0, keepdims=True)\n",
    "    print(\"mean value is:\", np.mean(m))\n",
    "    print(\"std value is:\", np.mean(s))\n",
    "#     m2, s2 = np.mean(ftest, axis=0, keepdims=True), np.std(ftest, axis=0, keepdims=True)\n",
    "#     m3, s3 = np.mean(food, axis=0, keepdims=True), np.std(food, axis=0, keepdims=True)\n",
    "\n",
    "    ftrain = (ftrain - m) / (s + 1e-10)\n",
    "    ftest = (ftest - m) / (s + 1e-10)\n",
    "    food = (food - m) / (s + 1e-10)\n",
    "#     print(\"ftrain shape is:\", ftrain.shape)\n",
    "#     ftrain = (ftrain - m) / (s + 1e-10)\n",
    "#     ftest = (ftrain - m2) / (s2 + 1e-10)\n",
    "#     food = (ftrain - m3) / (s3 + 1e-10)\n",
    "\n",
    "#     plt.figure(0).clf()\n",
    "#     plt.plot(food[960])\n",
    "#     plt.hist(ftrain[60], density=True, bins=100)\n",
    "#     plt.show()\n",
    "    \n",
    "    \n",
    "    return ftrain, ftest, food\n",
    "\n",
    "ssl_features_train,  ssl_features_test, ssl_features_ood= dnorm(ssl_features_train, ssl_features_test, ssl_features_ood)\n",
    "sp_features_train,  sp_features_test, sp_features_ood= dnorm(sp_features_train, sp_features_test, sp_features_ood)\n",
    "\n",
    "\n",
    "fl_features_train = 0.3 * ssl_features_train + 0.7 * sp_features_train\n",
    "fl_features_test = 0.3 * ssl_features_test + 0.7 * sp_features_test\n",
    "fl_features_ood = 0.3 * ssl_features_ood + 0.7 * sp_features_ood\n",
    "print(\"new fl_feature_train size is:\", fl_features_train.shape)\n",
    "\n",
    "fl_din, fl_dout, fl_idxin, fl_idxood = get_scores_multi_cluster(fl_features_train, fl_features_test, fl_features_ood, ssl_labels_train)"
   ]
  },
  {
   "cell_type": "code",
   "execution_count": 8,
   "id": "98623d1d",
   "metadata": {},
   "outputs": [
    {
     "name": "stdout",
     "output_type": "stream",
     "text": [
      "AUROC is: 0.8938611599999999\n"
     ]
    }
   ],
   "source": [
    "auroc = get_eval_results(fl_din, fl_dout)\n",
    "\n",
    "print(\"AUROC is:\", auroc)\n"
   ]
  },
  {
   "cell_type": "code",
   "execution_count": 9,
   "id": "d1a3eb41",
   "metadata": {},
   "outputs": [],
   "source": [
    "np.save(\"./ensemble_cifar100/fl_test_score.npy\",fl_din)\n",
    "np.save(\"./ensemble_cifar100/fl_ood_score.npy\",fl_dout)\n",
    "np.save(\"./ensemble_cifar100/fl_ood_minlabels.npy\",fl_idxood)\n",
    "np.save(\"./ensemble_cifar100/fl_test_minlabels.npy\",fl_idxin)"
   ]
  },
  {
   "cell_type": "code",
   "execution_count": 10,
   "id": "44edd4ba",
   "metadata": {},
   "outputs": [
    {
     "name": "stdout",
     "output_type": "stream",
     "text": [
      "[2699.14289933 2054.79580636 3017.00457251 ...  971.70151599 4214.53259711\n",
      "  999.0136564 ]\n",
      "[ 614.27246558 1375.03965714 1099.3319781  ...  965.77903413  474.87222485\n",
      "  682.23108487]\n"
     ]
    }
   ],
   "source": [
    "print(sp_dout)\n",
    "print(sp_din)"
   ]
  },
  {
   "cell_type": "code",
   "execution_count": null,
   "id": "b9115e23",
   "metadata": {},
   "outputs": [],
   "source": [
    "f_change= fl_dout - sp_dout\n",
    "indices = (-f_change).argsort()[:10]\n",
    "print(indices)"
   ]
  },
  {
   "cell_type": "code",
   "execution_count": null,
   "id": "9bd1b8fc",
   "metadata": {},
   "outputs": [],
   "source": [
    "plt.figure(0).clf()\n",
    "plt.plot(sp_features_ood[645])\n",
    "#     plt.hist(ftrain[60], density=True, bins=100)\n",
    "plt.show()\n",
    "\n",
    "idx = 5633\n",
    "plt.figure(0).clf()\n",
    "plt.plot(ssl_features_ood[idx])\n",
    "#     plt.hist(ftrain[60], density=True, bins=100)\n",
    "plt.show()\n",
    "print((-ssl_features_ood[idx]).argsort()[:10])"
   ]
  },
  {
   "cell_type": "code",
   "execution_count": 11,
   "id": "47a6b655",
   "metadata": {},
   "outputs": [
    {
     "name": "stdout",
     "output_type": "stream",
     "text": [
      "length of labels is: 10000\n"
     ]
    },
    {
     "data": {
      "text/plain": [
       "2638"
      ]
     },
     "execution_count": 11,
     "metadata": {},
     "output_type": "execute_result"
    }
   ],
   "source": [
    "## calculate fpr, tpr, Threshold \n",
    "\n",
    "labels = [0] * len(fl_din) + [1] * len(fl_dout)\n",
    "print(\"length of labels is:\", len(labels))\n",
    "data = np.concatenate((fl_din, fl_dout))\n",
    "fpr, tpr, thresh = roc_curve(labels, data)\n",
    "thresh.size"
   ]
  },
  {
   "cell_type": "code",
   "execution_count": 21,
   "id": "23f8f372",
   "metadata": {},
   "outputs": [
    {
     "name": "stdout",
     "output_type": "stream",
     "text": [
      "780.8173216588731\n",
      "2109\n",
      "0.4218\n"
     ]
    }
   ],
   "source": [
    "## select threshold that fpr approximates to 0.23\n",
    "Th = thresh[1950]\n",
    "print(Th)\n",
    "index = np.where(sp_din > Th)[0]\n",
    "print(index.size)\n",
    "print(index.size/5000)"
   ]
  },
  {
   "cell_type": "code",
   "execution_count": 22,
   "id": "15c47bdd",
   "metadata": {},
   "outputs": [],
   "source": [
    "ood_labels = np.load(\"./supervised_cifar100/labels_ood.npy\")"
   ]
  },
  {
   "cell_type": "code",
   "execution_count": 30,
   "id": "df5619c9",
   "metadata": {},
   "outputs": [
    {
     "name": "stdout",
     "output_type": "stream",
     "text": [
      "0.7886\n"
     ]
    }
   ],
   "source": [
    "## get false negative index and number\n",
    "index2 = np.where(ssl_dout > Th)[0]\n",
    "# print(index[:150])\n",
    "print(index2.size/5000)\n",
    "# print(ood_labels[:150])"
   ]
  },
  {
   "cell_type": "code",
   "execution_count": 26,
   "id": "1543bd6d",
   "metadata": {
    "scrolled": false
   },
   "outputs": [
    {
     "data": {
      "text/plain": [
       "0.9112"
      ]
     },
     "execution_count": 26,
     "metadata": {},
     "output_type": "execute_result"
    }
   ],
   "source": [
    "index1 = np.where(fl_dout > Th)[0]\n",
    "# print(index1)\n",
    "index1.size/5000"
   ]
  },
  {
   "cell_type": "code",
   "execution_count": 27,
   "id": "c5bd0f27",
   "metadata": {},
   "outputs": [
    {
     "name": "stdout",
     "output_type": "stream",
     "text": [
      "length of labels is: 10000\n",
      "size of threshold is : [8493.10216932 8492.10216932 5389.71304273 ...  342.79660644  342.29351848\n",
      "  260.45548402]\n",
      "size of fpr is : [0.     0.     0.     ... 0.9964 0.9964 1.    ]\n",
      "size of tpr is : [0.000e+00 2.000e-04 6.800e-03 ... 9.998e-01 1.000e+00 1.000e+00]\n"
     ]
    },
    {
     "data": {
      "image/png": "[encoded data removed]",
      "text/plain": [
       "<Figure size 432x288 with 1 Axes>"
      ]
     },
     "metadata": {
      "needs_background": "light"
     },
     "output_type": "display_data"
    }
   ],
   "source": [
    "def get_roc_sklearn_plot1(xin1, xood1, xin2, xood2, xin3, xood3):\n",
    "    \n",
    "    labels1 = [0] * len(xin1) + [1] * len(xood1)\n",
    "    print(\"length of labels is:\", len(labels1))\n",
    "    data1 = np.concatenate((xin1, xood1))\n",
    "    labels2 = [0] * len(xin2) + [1] * len(xood2)\n",
    "    data2 = np.concatenate((xin2, xood2))\n",
    "    labels3 = [0] * len(xin3) + [1] * len(xood3)\n",
    "    data3 = np.concatenate((xin3, xood3))\n",
    "    \n",
    "    plt.figure(0).clf()\n",
    "    fpr, tpr, thresh = roc_curve(labels1, data1)\n",
    "    print(\"size of threshold is :\", thresh)\n",
    "    plt.plot(fpr,tpr,label=\"SL\")\n",
    "    print(\"size of fpr is :\", fpr)\n",
    "    print(\"size of tpr is :\", tpr)\n",
    "    \n",
    "    fpr, tpr, thresh = roc_curve(labels2, data2)\n",
    "    plt.plot(fpr,tpr,label=\"SSL\")\n",
    "    \n",
    "    \n",
    "    fpr, tpr, thresh = roc_curve(labels3, data3)\n",
    "    plt.plot(fpr,tpr,label=\"Ensemble\")\n",
    "    \n",
    "get_roc_sklearn_plot1(sp_din, sp_dout, ssl_din, ssl_dout, fl_din, fl_dout)"
   ]
  },
  {
   "cell_type": "code",
   "execution_count": null,
   "id": "39158ed3",
   "metadata": {},
   "outputs": [],
   "source": [
    "fn_to_tp = np.setdiff1d(index, index1)\n",
    "print(fn_to_tp[:150])\n",
    "print(ood_labels[fn_to_tp[:150]])\n",
    "print(ood_labels[50])"
   ]
  },
  {
   "cell_type": "code",
   "execution_count": null,
   "id": "80b4cd01",
   "metadata": {
    "scrolled": false
   },
   "outputs": [],
   "source": [
    "## visualize one fn -> tp sample feature\n",
    "\n",
    "plt.figure(0).clf()\n",
    "plt.plot(0.9 * sp_features_ood[50])\n",
    "#     plt.hist(ftrain[60], density=True, bins=100)\n",
    "plt.show()\n",
    "\n",
    "plt.figure(1).clf()\n",
    "plt.plot(0.1 * ssl_features_ood[50])\n",
    "#     plt.hist(ftrain[60], density=True, bins=100)\n",
    "plt.show()\n",
    "\n",
    "\n",
    "plt.figure(1).clf()\n",
    "plt.plot(0.1 * fl_features_ood[50])\n",
    "#     plt.hist(ftrain[60], density=True, bins=100)\n",
    "plt.show()\n"
   ]
  },
  {
   "cell_type": "code",
   "execution_count": null,
   "id": "ef03e6da",
   "metadata": {},
   "outputs": [],
   "source": [
    "## visualize one fn -> tp sample feature\n",
    "\n",
    "plt.figure(0).clf()\n",
    "plt.plot(0.9 * sp_features_ood[257])\n",
    "#     plt.hist(ftrain[60], density=True, bins=100)\n",
    "plt.show()\n",
    "\n",
    "plt.figure(1).clf()\n",
    "plt.plot(0.1 * ssl_features_ood[257])\n",
    "#     plt.hist(ftrain[60], density=True, bins=100)\n",
    "plt.show()\n",
    "\n",
    "\n",
    "plt.figure(1).clf()\n",
    "plt.plot(0.1 * fl_features_ood[257])\n",
    "#     plt.hist(ftrain[60], density=True, bins=100)\n",
    "plt.show()"
   ]
  },
  {
   "cell_type": "code",
   "execution_count": null,
   "id": "1acc6abf",
   "metadata": {},
   "outputs": [],
   "source": [
    "## find the largest values in ssl feature\n",
    "\n",
    "ssl_idx = (-ssl_features_ood[6]).argsort()[:10]\n",
    "ssl_idx"
   ]
  },
  {
   "cell_type": "code",
   "execution_count": null,
   "id": "bd96598f",
   "metadata": {},
   "outputs": [],
   "source": [
    "sp_features_ood[6][986]"
   ]
  },
  {
   "cell_type": "code",
   "execution_count": null,
   "id": "3838925d",
   "metadata": {},
   "outputs": [],
   "source": [
    "ssl_idx = (-ssl_features_ood[17]).argsort()[:10]\n",
    "ssl_idx"
   ]
  },
  {
   "cell_type": "code",
   "execution_count": null,
   "id": "9ce2b25d",
   "metadata": {},
   "outputs": [],
   "source": [
    "a = [1, 2, 3]\n",
    "b = [1]"
   ]
  },
  {
   "cell_type": "code",
   "execution_count": null,
   "id": "9b6c306c",
   "metadata": {},
   "outputs": [],
   "source": []
  }
 ],
 "metadata": {
  "kernelspec": {
   "display_name": "Python 3",
   "language": "python",
   "name": "python3"
  },
  "language_info": {
   "codemirror_mode": {
    "name": "ipython",
    "version": 3
   },
   "file_extension": ".py",
   "mimetype": "text/x-python",
   "name": "python",
   "nbconvert_exporter": "python",
   "pygments_lexer": "ipython3",
   "version": "3.6.10"
  }
 },
 "nbformat": 4,
 "nbformat_minor": 5
}
