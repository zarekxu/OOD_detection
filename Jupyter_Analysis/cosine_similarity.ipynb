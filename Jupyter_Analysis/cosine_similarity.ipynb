{
 "cells": [
  {
   "cell_type": "code",
   "execution_count": 2,
   "id": "9b172e51",
   "metadata": {},
   "outputs": [],
   "source": [
    "import sklearn.metrics as skm\n",
    "import sys\n",
    "import numpy as np\n",
    "from sklearn.metrics import roc_curve\n",
    "from sklearn.metrics import RocCurveDisplay\n",
    "import matplotlib.pyplot as plt\n",
    "\n",
    "ssl_features_train = np.load(\"./old_but_full_features/self_supervised_cifar100/features_train2.npy\")\n",
    "ssl_labels_train = np.load(\"./old_but_full_features/self_supervised_cifar100/labels_train2.npy\")\n",
    "ssl_features_test = np.load(\"./old_but_full_features/self_supervised_cifar100/features_test2.npy\")\n",
    "ssl_features_ood = np.load(\"./old_but_full_features/self_supervised_cifar100/features_ood2.npy\")\n",
    "\n",
    "\n",
    "sp_features_train = np.load(\"./old_but_full_features/supervised_cifar100/features_train2.npy\")\n",
    "sp_labels_train = np.load(\"./old_but_full_features/supervised_cifar100/labels_train2.npy\")\n",
    "sp_features_test = np.load(\"./old_but_full_features/supervised_cifar100/features_test2.npy\")\n",
    "sp_features_ood = np.load(\"./old_but_full_features/supervised_cifar100/features_ood2.npy\")\n"
   ]
  },
  {
   "cell_type": "code",
   "execution_count": 78,
   "id": "9b6c306c",
   "metadata": {},
   "outputs": [
    {
     "name": "stdout",
     "output_type": "stream",
     "text": [
      "ftrain size is: (50000, 2048)\n",
      "mean value is: 2.583538e-09\n",
      "std value is: 0.022097033\n",
      "ftrain size is: (50000, 2048)\n",
      "mean value is: -7.845433e-07\n",
      "std value is: 0.022097047\n",
      "new fl_feature_train size is: (50000, 4096)\n"
     ]
    }
   ],
   "source": [
    "import matplotlib.pyplot as plt\n",
    "\n",
    "def dnorm(ftrain, ftest, food):\n",
    "    \n",
    "    print(\"ftrain size is:\", ftrain.shape)\n",
    "    ftrain /= np.linalg.norm(ftrain, axis=-1, keepdims=True) + 1e-10\n",
    "    ftest /= np.linalg.norm(ftest, axis=-1, keepdims=True) + 1e-10\n",
    "    food /= np.linalg.norm(food, axis=-1, keepdims=True) + 1e-10\n",
    "\n",
    "    m, s = np.mean(ftrain, axis=0, keepdims=True), np.std(ftrain, axis=0, keepdims=True)\n",
    "    print(\"mean value is:\", np.mean(m))\n",
    "    print(\"std value is:\", np.mean(s))\n",
    "#     m2, s2 = np.mean(ftest, axis=0, keepdims=True), np.std(ftest, axis=0, keepdims=True)\n",
    "#     m3, s3 = np.mean(food, axis=0, keepdims=True), np.std(food, axis=0, keepdims=True)\n",
    "\n",
    "    ftrain = (ftrain - m) / (s + 1e-10)\n",
    "    ftest = (ftest - m) / (s + 1e-10)\n",
    "    food = (food - m) / (s + 1e-10)\n",
    "#     print(\"ftrain shape is:\", ftrain.shape)\n",
    "#     ftrain = (ftrain - m) / (s + 1e-10)\n",
    "#     ftest = (ftrain - m2) / (s2 + 1e-10)\n",
    "#     food = (ftrain - m3) / (s3 + 1e-10)\n",
    "\n",
    "#     plt.figure(0).clf()\n",
    "#     plt.plot(food[960])\n",
    "#     plt.hist(ftrain[60], density=True, bins=100)\n",
    "#     plt.show()\n",
    "    \n",
    "    \n",
    "    return ftrain, ftest, food\n",
    "\n",
    "ssl_features_train,  ssl_features_test, ssl_features_ood= dnorm(ssl_features_train, ssl_features_test, ssl_features_ood)\n",
    "sp_features_train,  sp_features_test, sp_features_ood= dnorm(sp_features_train, sp_features_test, sp_features_ood)\n",
    "\n",
    "alpha = 0.5\n",
    "# fl_features_train = alpha * ssl_features_train + (1-alpha) * sp_features_train\n",
    "# fl_features_test = alpha * ssl_features_test + (1-alpha) * sp_features_test\n",
    "# fl_features_ood = alpha * ssl_features_ood + (1-alpha) * sp_features_ood\n",
    "fl_features_train = np.concatenate((ssl_features_train, sp_features_train), axis = 1)\n",
    "fl_features_test = np.concatenate((ssl_features_test, sp_features_test), axis = 1)\n",
    "fl_features_ood = np.concatenate((ssl_features_ood, sp_features_ood), axis = 1)\n",
    "print(\"new fl_feature_train size is:\", fl_features_train.shape)"
   ]
  },
  {
   "cell_type": "code",
   "execution_count": 158,
   "id": "fd28eeb8",
   "metadata": {},
   "outputs": [],
   "source": [
    "\n",
    "i, j = 5, 6"
   ]
  },
  {
   "cell_type": "code",
   "execution_count": 159,
   "id": "9638350d",
   "metadata": {},
   "outputs": [
    {
     "name": "stdout",
     "output_type": "stream",
     "text": [
      "(5000, 2048)\n",
      "(10, 1, 2048)\n",
      "97.2438270342927\n"
     ]
    }
   ],
   "source": [
    "# calcualte cosine similarity of ssl, sl, and ensemble \n",
    "from scipy.spatial import distance\n",
    "\n",
    "# reshape(1, -1)\n",
    "\n",
    "xc = [ssl_features_train[ssl_labels_train == i] for i in np.unique(ssl_labels_train)]\n",
    "\n",
    "print(xc[0].shape)\n",
    "\n",
    "all_embedding = []\n",
    "for x in xc: \n",
    "    \n",
    "    cla_embedding = np.mean(x, axis=0, keepdims=True)\n",
    "#     print(cla_embedding.shape)\n",
    "    all_embedding.append(cla_embedding)\n",
    "all_embedding = np.array(all_embedding)\n",
    "\n",
    "print(all_embedding.shape)\n",
    "\n",
    "\n",
    "Inter_class_dispersion = 1 - distance.cosine(all_embedding[i], all_embedding[j])\n",
    "\n",
    "print(180 * np.arccos(Inter_class_dispersion)/math.pi)\n",
    "\n",
    "\n",
    "\n",
    "\n",
    "\n",
    "\n",
    "\n",
    "\n",
    "\n",
    "\n",
    "\n"
   ]
  },
  {
   "cell_type": "code",
   "execution_count": 160,
   "id": "35207f80",
   "metadata": {},
   "outputs": [
    {
     "name": "stdout",
     "output_type": "stream",
     "text": [
      "(5000, 2048)\n",
      "(10, 1, 2048)\n",
      "94.77689178280772\n"
     ]
    }
   ],
   "source": [
    "xc = [sp_features_train[sp_labels_train == i] for i in np.unique(sp_labels_train)]\n",
    "\n",
    "print(xc[0].shape)\n",
    "\n",
    "all_embedding = []\n",
    "for x in xc: \n",
    "    \n",
    "    cla_embedding = np.mean(x, axis=0, keepdims=True)\n",
    "#     print(cla_embedding.shape)\n",
    "    all_embedding.append(cla_embedding)\n",
    "all_embedding = np.array(all_embedding)\n",
    "\n",
    "print(all_embedding.shape)\n",
    "\n",
    "\n",
    "Inter_class_dispersion = 1 - distance.cosine(all_embedding[i], all_embedding[j])\n",
    "\n",
    "print(180 * np.arccos(Inter_class_dispersion)/math.pi)"
   ]
  },
  {
   "cell_type": "code",
   "execution_count": 161,
   "id": "1a4d5b57",
   "metadata": {},
   "outputs": [
    {
     "name": "stdout",
     "output_type": "stream",
     "text": [
      "(5000, 4096)\n",
      "(10, 1, 4096)\n",
      "95.03753673390938\n"
     ]
    }
   ],
   "source": [
    "xc = [fl_features_train[ssl_labels_train == i] for i in np.unique(ssl_labels_train)]\n",
    "\n",
    "print(xc[0].shape)\n",
    "\n",
    "all_embedding = []\n",
    "\n",
    "for x in xc: \n",
    "    \n",
    "    cla_embedding = np.mean(x, axis=0, keepdims=True)\n",
    "#     print(cla_embedding.shape)\n",
    "    all_embedding.append(cla_embedding)\n",
    "all_embedding = np.array(all_embedding)\n",
    "\n",
    "print(all_embedding.shape)\n",
    "\n",
    "Inter_class_dispersion = 1 - distance.cosine(all_embedding[i], all_embedding[j])\n",
    "print(180 * np.arccos(Inter_class_dispersion)/math.pi)"
   ]
  },
  {
   "cell_type": "code",
   "execution_count": null,
   "id": "e04cb4a2",
   "metadata": {},
   "outputs": [],
   "source": []
  },
  {
   "cell_type": "code",
   "execution_count": 62,
   "id": "7c33be97",
   "metadata": {},
   "outputs": [
    {
     "name": "stdout",
     "output_type": "stream",
     "text": [
      "(5000, 4096)\n",
      "(10, 1, 4096)\n",
      "-0.11107864141878154\n"
     ]
    }
   ],
   "source": [
    "xc = [fl_features_train[ssl_labels_train == i] for i in np.unique(ssl_labels_train)]\n",
    "\n",
    "print(xc[0].shape)\n",
    "\n",
    "all_embedding = []\n",
    "for x in xc: \n",
    "    \n",
    "    cla_embedding = np.mean(x, axis=0, keepdims=True)\n",
    "#     print(cla_embedding.shape)\n",
    "    all_embedding.append(cla_embedding)\n",
    "all_embedding = np.array(all_embedding)\n",
    "\n",
    "print(all_embedding.shape)\n",
    "\n",
    "k = 0 \n",
    "total = 0\n",
    "for i in range(10):\n",
    "    for j in range(i+1, 10):\n",
    "        class_dispersion = 1 - distance.cosine(all_embedding[i], all_embedding[j])\n",
    "        total  = class_dispersion + total\n",
    "        k += 1\n",
    "        Inter_class_dispersion = total/k\n",
    "print(Inter_class_dispersion)\n",
    "        \n",
    "        "
   ]
  },
  {
   "cell_type": "code",
   "execution_count": 80,
   "id": "3d7a333b",
   "metadata": {},
   "outputs": [
    {
     "name": "stdout",
     "output_type": "stream",
     "text": [
      "(5000, 2048)\n",
      "class0's compactness is: 71.32903571038881\n",
      "(5000, 2048)\n",
      "class1's compactness is: 67.6464673874927\n",
      "(5000, 2048)\n",
      "class2's compactness is: 73.71511553986119\n",
      "(5000, 2048)\n",
      "class3's compactness is: 74.06747412292219\n",
      "(5000, 2048)\n",
      "class4's compactness is: 71.51522838329299\n",
      "(5000, 2048)\n",
      "class5's compactness is: 73.41277862007108\n",
      "(5000, 2048)\n",
      "class6's compactness is: 67.82569751759843\n",
      "(5000, 2048)\n",
      "class7's compactness is: 70.8060637814999\n",
      "(5000, 2048)\n",
      "class8's compactness is: 69.24716820519127\n",
      "(5000, 2048)\n",
      "class9's compactness is: 67.80259259486972\n",
      "overall compactness is: 70.75412012129294\n"
     ]
    }
   ],
   "source": [
    "#  calcualte compactness\n",
    "import math\n",
    "\n",
    "\n",
    "xc = [ssl_features_train[ssl_labels_train == i] for i in np.unique(ssl_labels_train)]\n",
    "\n",
    "o_compact = 0 \n",
    "\n",
    "c = 0\n",
    "for x in xc:\n",
    "    all_compact = 0\n",
    "    print(x.shape)\n",
    "    for i in range(x.shape[0]):\n",
    "        all_compact = all_compact + 1 - distance.cosine(x[i], all_embedding[c])\n",
    "    o_compact = o_compact + all_compact\n",
    "    print(\"class\"+str(c)+\"'s compactness is:\", 180 * np.arccos(all_compact/x.shape[0])/math.pi)\n",
    "    c += 1\n",
    "    \n",
    "print(\"overall compactness is:\", 180 * np.arccos(o_compact/50000)/math.pi)"
   ]
  },
  {
   "cell_type": "code",
   "execution_count": 82,
   "id": "16325c80",
   "metadata": {},
   "outputs": [
    {
     "name": "stdout",
     "output_type": "stream",
     "text": [
      "(5000, 2048)\n",
      "class0's compactness is: 25.2915789053564\n",
      "(5000, 2048)\n",
      "class1's compactness is: 27.19969177887323\n",
      "(5000, 2048)\n",
      "class2's compactness is: 25.527930453032322\n",
      "(5000, 2048)\n",
      "class3's compactness is: 22.88985783535919\n",
      "(5000, 2048)\n",
      "class4's compactness is: 24.57593021693201\n",
      "(5000, 2048)\n",
      "class5's compactness is: 24.01253031147492\n",
      "(5000, 2048)\n",
      "class6's compactness is: 22.79114947884434\n",
      "(5000, 2048)\n",
      "class7's compactness is: 23.571704974994784\n",
      "(5000, 2048)\n",
      "class8's compactness is: 21.786599811294757\n",
      "(5000, 2048)\n",
      "class9's compactness is: 24.417771183913388\n",
      "overall compactness is: 24.249271899576843\n"
     ]
    }
   ],
   "source": [
    "#  calcualte compactness\n",
    "\n",
    "\n",
    "\n",
    "xc = [sp_features_train[sp_labels_train == i] for i in np.unique(sp_labels_train)]\n",
    "\n",
    "o_compact = 0 \n",
    "\n",
    "c = 0\n",
    "for x in xc:\n",
    "    all_compact = 0\n",
    "    print(x.shape)\n",
    "    for i in range(x.shape[0]):\n",
    "        all_compact = all_compact + 1 - distance.cosine(x[i], all_embedding[c])\n",
    "    o_compact = o_compact + all_compact\n",
    "    print(\"class\"+str(c)+\"'s compactness is:\", 180 * np.arccos(all_compact/x.shape[0])/math.pi)\n",
    "    c += 1\n",
    "    \n",
    "print(\"overall compactness is:\", 180 * np.arccos(o_compact/50000)/math.pi)\n",
    "\n",
    "\n"
   ]
  },
  {
   "cell_type": "code",
   "execution_count": 84,
   "id": "8df9fb65",
   "metadata": {},
   "outputs": [
    {
     "name": "stdout",
     "output_type": "stream",
     "text": [
      "(5000, 4096)\n",
      "class0's compactness is: 47.295589472045876\n",
      "(5000, 4096)\n",
      "class1's compactness is: 46.84459866791529\n",
      "(5000, 4096)\n",
      "class2's compactness is: 48.07159076901955\n",
      "(5000, 4096)\n",
      "class3's compactness is: 47.17617243038252\n",
      "(5000, 4096)\n",
      "class4's compactness is: 47.077012673371335\n",
      "(5000, 4096)\n",
      "class5's compactness is: 47.408549943006925\n",
      "(5000, 4096)\n",
      "class6's compactness is: 45.219147071832175\n",
      "(5000, 4096)\n",
      "class7's compactness is: 46.48448453978682\n",
      "(5000, 4096)\n",
      "class8's compactness is: 45.3517262123191\n",
      "(5000, 4096)\n",
      "class9's compactness is: 45.80945102193846\n",
      "overall compactness is: 46.68040546791253\n"
     ]
    }
   ],
   "source": [
    "#  calcualte compactness\n",
    "\n",
    "\n",
    "\n",
    "xc = [fl_features_train[sp_labels_train == i] for i in np.unique(sp_labels_train)]\n",
    "\n",
    "o_compact = 0 \n",
    "\n",
    "c = 0\n",
    "for x in xc:\n",
    "    all_compact = 0\n",
    "    print(x.shape)\n",
    "    for i in range(x.shape[0]):\n",
    "        all_compact = all_compact + 1 - distance.cosine(x[i], all_embedding[c])\n",
    "    o_compact = o_compact + all_compact\n",
    "    print(\"class\"+str(c)+\"'s compactness is:\", 180 * np.arccos(all_compact/x.shape[0])/math.pi)\n",
    "    c += 1\n",
    "    \n",
    "print(\"overall compactness is:\", 180 * np.arccos(o_compact/50000)/math.pi)"
   ]
  },
  {
   "cell_type": "code",
   "execution_count": null,
   "id": "472c0bcf",
   "metadata": {},
   "outputs": [],
   "source": []
  }
 ],
 "metadata": {
  "kernelspec": {
   "display_name": "Python 3",
   "language": "python",
   "name": "python3"
  },
  "language_info": {
   "codemirror_mode": {
    "name": "ipython",
    "version": 3
   },
   "file_extension": ".py",
   "mimetype": "text/x-python",
   "name": "python",
   "nbconvert_exporter": "python",
   "pygments_lexer": "ipython3",
   "version": "3.6.10"
  }
 },
 "nbformat": 4,
 "nbformat_minor": 5
}
