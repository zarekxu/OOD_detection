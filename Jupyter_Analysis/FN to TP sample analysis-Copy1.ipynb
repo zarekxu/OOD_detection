{
 "cells": [
  {
   "cell_type": "code",
   "execution_count": 1,
   "id": "9b172e51",
   "metadata": {},
   "outputs": [],
   "source": [
    "import sklearn.metrics as skm\n",
    "import sys\n",
    "import numpy as np\n",
    "from sklearn.metrics import roc_curve\n",
    "from sklearn.metrics import RocCurveDisplay\n",
    "import matplotlib.pyplot as plt\n",
    "\n",
    "ssl_features_train = np.load(\"./old_but_full_features/self_supervised_cifar100/features_train2.npy\")\n",
    "ssl_labels_train = np.load(\"./old_but_full_features/self_supervised_cifar100/labels_train2.npy\")\n",
    "ssl_features_test = np.load(\"./old_but_full_features/self_supervised_cifar100/features_test2.npy\")\n",
    "ssl_features_ood = np.load(\"./old_but_full_features/self_supervised_cifar100/features_ood2.npy\")\n",
    "\n",
    "\n",
    "sp_features_train = np.load(\"./old_but_full_features/supervised_cifar100/features_train2.npy\")\n",
    "sp_labels_train = np.load(\"./old_but_full_features/supervised_cifar100/labels_train2.npy\")\n",
    "sp_features_test = np.load(\"./old_but_full_features/supervised_cifar100/features_test2.npy\")\n",
    "sp_features_ood = np.load(\"./old_but_full_features/supervised_cifar100/features_ood2.npy\")\n"
   ]
  },
  {
   "cell_type": "code",
   "execution_count": 2,
   "id": "d866a84d",
   "metadata": {},
   "outputs": [],
   "source": [
    "# -- calculate SL and SSL score separately\n",
    "\n",
    "\n",
    "import sklearn.metrics as skm\n",
    "import sys\n",
    "import numpy as np\n",
    "from sklearn.metrics import roc_curve\n",
    "from sklearn.metrics import RocCurveDisplay\n",
    "import matplotlib.pyplot as plt\n",
    "\n",
    "def get_roc_sklearn(xin, xood):\n",
    "    labels = [0] * len(xin) + [1] * len(xood)\n",
    "    data = np.concatenate((xin, xood))\n",
    "    auroc = skm.roc_auc_score(labels, data)\n",
    "    return auroc\n",
    "\n",
    "\n",
    "def get_scores_multi_cluster(ftrain, ftest, food, ypred):\n",
    "    print(\"using multiple clusters\")\n",
    "    xc = [ftrain[ypred == i] for i in np.unique(ypred)]\n",
    "    \n",
    "\n",
    "    din = [\n",
    "        np.sum(\n",
    "            (ftest - np.mean(x, axis=0, keepdims=True))\n",
    "            * (\n",
    "                np.linalg.pinv(np.cov(x.T, bias=True)).dot(\n",
    "                    (ftest - np.mean(x, axis=0, keepdims=True)).T\n",
    "                )\n",
    "            ).T,\n",
    "            axis=-1,\n",
    "        )\n",
    "        for x in xc\n",
    "    ]\n",
    "    dood = [\n",
    "        np.sum(\n",
    "            (food - np.mean(x, axis=0, keepdims=True))\n",
    "            * (\n",
    "                np.linalg.pinv(np.cov(x.T, bias=True)).dot(\n",
    "                    (food - np.mean(x, axis=0, keepdims=True)).T\n",
    "                )\n",
    "            ).T,\n",
    "            axis=-1,\n",
    "        )\n",
    "        for x in xc\n",
    "    ]\n",
    "#     print(\"din shape is looking like:\", din)\n",
    "    din_index = np.argmin(din, axis = 0)\n",
    "    \n",
    "    din = np.min(din, axis=0)\n",
    "    \n",
    "    dood_index = np.argmin(dood, axis = 0)\n",
    "    dood = np.min(dood, axis=0)\n",
    "\n",
    "    return din, dood, din_index, dood_index\n",
    "\n",
    "def get_scores(ftrain, ftest, food, labelstrain, cluster):\n",
    "\n",
    "    # standardize data\n",
    "    print(\"ftrain size is:\", ftrain.shape)\n",
    "    ftrain /= np.linalg.norm(ftrain, axis=-1, keepdims=True) + 1e-10\n",
    "    ftest /= np.linalg.norm(ftest, axis=-1, keepdims=True) + 1e-10\n",
    "    food /= np.linalg.norm(food, axis=-1, keepdims=True) + 1e-10\n",
    "\n",
    "    m, s = np.mean(ftrain, axis=0, keepdims=True), np.std(ftrain, axis=0, keepdims=True)\n",
    "\n",
    "    ftrain = (ftrain - m) / (s + 1e-10)\n",
    "    ftest = (ftest - m) / (s + 1e-10)\n",
    "    food = (food - m) / (s + 1e-10)\n",
    "    \n",
    "    return get_scores_multi_cluster(ftrain, ftest, food, labelstrain)   # for supervised learning\n",
    "\n",
    "def get_eval_results(dtest, dood):\n",
    "    \"\"\"\n",
    "    None.\n",
    "    \"\"\"\n",
    "\n",
    "    auroc = get_roc_sklearn(dtest, dood)\n",
    "    return auroc"
   ]
  },
  {
   "cell_type": "code",
   "execution_count": 3,
   "id": "f92d82b9",
   "metadata": {},
   "outputs": [
    {
     "name": "stdout",
     "output_type": "stream",
     "text": [
      "ftrain size is: (50000, 2048)\n",
      "using multiple clusters\n",
      "ftrain size is: (50000, 2048)\n",
      "using multiple clusters\n"
     ]
    }
   ],
   "source": [
    "#calculate score of id test samples and ood test samples\n",
    "\n",
    "# Get features --> individual cluster (self-sp and sp) --> calcualte score\n",
    "\n",
    "ssl_din, ssl_dout, ssl_idxin, ssl_idxood = get_scores(ssl_features_train, ssl_features_test, ssl_features_ood, ssl_labels_train, cluster = 10)\n",
    "\n",
    "sp_din, sp_dout, sp_idxin, sp_idxood = get_scores(sp_features_train, sp_features_test, sp_features_ood, sp_labels_train, cluster = 10)\n"
   ]
  },
  {
   "cell_type": "code",
   "execution_count": 4,
   "id": "cfcbecff",
   "metadata": {},
   "outputs": [
    {
     "name": "stdout",
     "output_type": "stream",
     "text": [
      "AUROC is: 0.8805713449999999\n",
      "AUROC is: 0.8796951750000002\n"
     ]
    }
   ],
   "source": [
    "auroc = get_eval_results(ssl_din, ssl_dout)\n",
    "\n",
    "print(\"AUROC is:\", auroc)\n",
    "\n",
    "auroc = get_eval_results(sp_din, sp_dout)\n",
    "\n",
    "print(\"AUROC is:\", auroc)\n"
   ]
  },
  {
   "cell_type": "code",
   "execution_count": 5,
   "id": "e1622b29",
   "metadata": {},
   "outputs": [],
   "source": [
    "np.save(\"./old_but_full_features/self_supervised_cifar100/ssl_test_score.npy\",ssl_din)\n",
    "np.save(\"./old_but_full_features/self_supervised_cifar100/ssl_ood_score.npy\",ssl_dout)\n",
    "np.save(\"./old_but_full_features/supervised_cifar100/sl_test_score.npy\",sp_din)\n",
    "np.save(\"./old_but_full_features/supervised_cifar100/sl_ood_score.npy\",sp_dout)\n",
    "np.save(\"./old_but_full_features/supervised_cifar100/sl_ood_minlabels.npy\",sp_idxood)\n",
    "np.save(\"./old_but_full_features/supervised_cifar100/sl_test_minlabels.npy\",sp_idxin)\n",
    "np.save(\"./old_but_full_features/self_supervised_cifar100/ssl_ood_minlabels.npy\",ssl_idxood)\n",
    "np.save(\"./old_but_full_features/self_supervised_cifar100/ssl_test_minlabels.npy\",ssl_idxin)\n",
    "\n"
   ]
  },
  {
   "cell_type": "code",
   "execution_count": 6,
   "id": "ec5fc629",
   "metadata": {},
   "outputs": [],
   "source": [
    "# np.save(\"./old_but_full_features/self_supervised_cifar100/ssl_test_score.npy\",ssl_din)\n",
    "# np.save(\"./old_but_full_features/self_supervised_cifar100/ssl_ood_score.npy\",ssl_dout)\n",
    "# np.save(\"./old_but_full_features/supervised_cifar100/sl_test_score.npy\",sp_din)\n",
    "# np.save(\"./old_but_full_features/supervised_cifar100/sl_ood_score.npy\",sp_dout)\n"
   ]
  },
  {
   "cell_type": "code",
   "execution_count": 7,
   "id": "799c0c6a",
   "metadata": {},
   "outputs": [
    {
     "name": "stdout",
     "output_type": "stream",
     "text": [
      "ftrain size is: (50000, 2048)\n",
      "mean value is: 1.2514749e-06\n",
      "std value is: 0.022090783\n",
      "ftrain size is: (50000, 2048)\n",
      "mean value is: -0.00021042174\n",
      "std value is: 0.02207962\n",
      "new fl_feature_train size is: (50000, 2048)\n",
      "using multiple clusters\n"
     ]
    }
   ],
   "source": [
    "# calculate score for combined feature\n",
    "\n",
    "\n",
    "import matplotlib.pyplot as plt\n",
    "\n",
    "def dnorm(ftrain, ftest, food):\n",
    "    \n",
    "    print(\"ftrain size is:\", ftrain.shape)\n",
    "    ftrain /= np.linalg.norm(ftrain, axis=-1, keepdims=True) + 1e-10\n",
    "    ftest /= np.linalg.norm(ftest, axis=-1, keepdims=True) + 1e-10\n",
    "    food /= np.linalg.norm(food, axis=-1, keepdims=True) + 1e-10\n",
    "\n",
    "    m, s = np.mean(ftrain, axis=0, keepdims=True), np.std(ftrain, axis=0, keepdims=True)\n",
    "    print(\"mean value is:\", np.mean(m))\n",
    "    print(\"std value is:\", np.mean(s))\n",
    "#     m2, s2 = np.mean(ftest, axis=0, keepdims=True), np.std(ftest, axis=0, keepdims=True)\n",
    "#     m3, s3 = np.mean(food, axis=0, keepdims=True), np.std(food, axis=0, keepdims=True)\n",
    "\n",
    "    ftrain = (ftrain - m) / (s + 1e-10)\n",
    "    ftest = (ftest - m) / (s + 1e-10)\n",
    "    food = (food - m) / (s + 1e-10)\n",
    "#     print(\"ftrain shape is:\", ftrain.shape)\n",
    "#     ftrain = (ftrain - m) / (s + 1e-10)\n",
    "#     ftest = (ftrain - m2) / (s2 + 1e-10)\n",
    "#     food = (ftrain - m3) / (s3 + 1e-10)\n",
    "\n",
    "#     plt.figure(0).clf()\n",
    "#     plt.plot(food[960])\n",
    "#     plt.hist(ftrain[60], density=True, bins=100)\n",
    "#     plt.show()\n",
    "    \n",
    "    \n",
    "    return ftrain, ftest, food\n",
    "\n",
    "ssl_features_train,  ssl_features_test, ssl_features_ood= dnorm(ssl_features_train, ssl_features_test, ssl_features_ood)\n",
    "sp_features_train,  sp_features_test, sp_features_ood= dnorm(sp_features_train, sp_features_test, sp_features_ood)\n",
    "\n",
    "\n",
    "fl_features_train = 0.1 * ssl_features_train + 0.9 * sp_features_train\n",
    "fl_features_test = 0.1 * ssl_features_test + 0.9 * sp_features_test\n",
    "fl_features_ood = 0.1 * ssl_features_ood + 0.9 * sp_features_ood\n",
    "print(\"new fl_feature_train size is:\", fl_features_train.shape)\n",
    "\n",
    "fl_din, fl_dout, fl_idxin, fl_idxood = get_scores_multi_cluster(fl_features_train, fl_features_test, fl_features_ood, ssl_labels_train)"
   ]
  },
  {
   "cell_type": "code",
   "execution_count": 8,
   "id": "98623d1d",
   "metadata": {},
   "outputs": [
    {
     "name": "stdout",
     "output_type": "stream",
     "text": [
      "AUROC is: 0.9135138050000001\n"
     ]
    }
   ],
   "source": [
    "auroc = get_eval_results(fl_din, fl_dout)\n",
    "\n",
    "print(\"AUROC is:\", auroc)\n"
   ]
  },
  {
   "cell_type": "code",
   "execution_count": 10,
   "id": "d1a3eb41",
   "metadata": {},
   "outputs": [],
   "source": [
    "np.save(\"./old_but_full_features/ensemble_cifar100/fl_test_score.npy\",fl_din)\n",
    "np.save(\"./old_but_full_features/ensemble_cifar100/fl_ood_score.npy\",fl_dout)\n",
    "np.save(\"./old_but_full_features/ensemble_cifar100/fl_ood_minlabels.npy\",fl_idxood)\n",
    "np.save(\"./old_but_full_features/ensemble_cifar100/fl_test_minlabels.npy\",fl_idxin)"
   ]
  },
  {
   "cell_type": "code",
   "execution_count": 11,
   "id": "44edd4ba",
   "metadata": {},
   "outputs": [
    {
     "name": "stdout",
     "output_type": "stream",
     "text": [
      "[ 6759.75252719 11261.13142373  8778.70741014 ... 10547.83388989\n",
      "  9703.84838071 14297.67649249]\n",
      "[3554.01341274 2803.23943896 4732.86509977 ... 2920.56238729 4034.69434518\n",
      " 2608.63471948]\n"
     ]
    }
   ],
   "source": [
    "print(sp_dout)\n",
    "print(sp_din)"
   ]
  },
  {
   "cell_type": "code",
   "execution_count": null,
   "id": "b9115e23",
   "metadata": {},
   "outputs": [],
   "source": [
    "f_change= fl_dout - sp_dout\n",
    "indices = (-f_change).argsort()[:10]\n",
    "print(indices)"
   ]
  },
  {
   "cell_type": "code",
   "execution_count": null,
   "id": "9bd1b8fc",
   "metadata": {},
   "outputs": [],
   "source": [
    "plt.figure(0).clf()\n",
    "plt.plot(sp_features_ood[645])\n",
    "#     plt.hist(ftrain[60], density=True, bins=100)\n",
    "plt.show()\n",
    "\n",
    "idx = 5633\n",
    "plt.figure(0).clf()\n",
    "plt.plot(ssl_features_ood[idx])\n",
    "#     plt.hist(ftrain[60], density=True, bins=100)\n",
    "plt.show()\n",
    "print((-ssl_features_ood[idx]).argsort()[:10])"
   ]
  },
  {
   "cell_type": "code",
   "execution_count": 12,
   "id": "47a6b655",
   "metadata": {},
   "outputs": [
    {
     "name": "stdout",
     "output_type": "stream",
     "text": [
      "length of labels is: 20000\n"
     ]
    },
    {
     "data": {
      "text/plain": [
       "4534"
      ]
     },
     "execution_count": 12,
     "metadata": {},
     "output_type": "execute_result"
    }
   ],
   "source": [
    "## calculate fpr, tpr, Threshold \n",
    "\n",
    "labels = [0] * len(fl_din) + [1] * len(fl_dout)\n",
    "print(\"length of labels is:\", len(labels))\n",
    "data = np.concatenate((fl_din, fl_dout))\n",
    "fpr, tpr, thresh = roc_curve(labels, data)\n",
    "thresh.size"
   ]
  },
  {
   "cell_type": "code",
   "execution_count": 25,
   "id": "23f8f372",
   "metadata": {},
   "outputs": [
    {
     "name": "stdout",
     "output_type": "stream",
     "text": [
      "4927.24158062202\n",
      "2349\n"
     ]
    }
   ],
   "source": [
    "## select threshold that fpr approximates to 0.23\n",
    "Th = thresh[3900]\n",
    "print(Th)\n",
    "index = np.where(sp_din > Th)[0]\n",
    "print(index.size)"
   ]
  },
  {
   "cell_type": "code",
   "execution_count": 126,
   "id": "08f55047",
   "metadata": {
    "scrolled": false
   },
   "outputs": [
    {
     "data": {
      "image/png": "[encoded data removed]",
      "text/plain": [
       "<Figure size 432x288 with 1 Axes>"
      ]
     },
     "metadata": {
      "needs_background": "light"
     },
     "output_type": "display_data"
    },
    {
     "data": {
      "image/png": "[encoded data removed]",
      "text/plain": [
       "<Figure size 432x288 with 1 Axes>"
      ]
     },
     "metadata": {
      "needs_background": "light"
     },
     "output_type": "display_data"
    },
    {
     "data": {
      "image/png": "[encoded data removed]",
      "text/plain": [
       "<Figure size 432x288 with 1 Axes>"
      ]
     },
     "metadata": {
      "needs_background": "light"
     },
     "output_type": "display_data"
    },
    {
     "data": {
      "image/png": "[encoded data removed]",
      "text/plain": [
       "<Figure size 432x288 with 1 Axes>"
      ]
     },
     "metadata": {
      "needs_background": "light"
     },
     "output_type": "display_data"
    },
    {
     "data": {
      "image/png": "[encoded data removed]",
      "text/plain": [
       "<Figure size 432x288 with 1 Axes>"
      ]
     },
     "metadata": {
      "needs_background": "light"
     },
     "output_type": "display_data"
    },
    {
     "name": "stdout",
     "output_type": "stream",
     "text": [
      "10000\n",
      "10000\n"
     ]
    }
   ],
   "source": [
    "# score distritbuion of sl and ssl and ensemble\n",
    "plt.hist(sp_din, alpha=.6, bins=50)  # density=False would make counts\n",
    "plt.hist(sp_dout, alpha=.6, bins=50)  # density=False would make counts\n",
    "plt.ylabel('frequency')\n",
    "plt.xlabel('Score');\n",
    "plt.show()\n",
    "\n",
    "plt.hist(ssl_din, alpha=.6, bins=50)  # density=False would make counts\n",
    "plt.hist(ssl_dout, alpha=.6, bins=50)  # density=False would make counts\n",
    "plt.ylabel('frequency')\n",
    "plt.xlabel('Score');\n",
    "plt.show()\n",
    "\n",
    "plt.hist(fl_din, alpha=.6, bins=50)  # density=False would make counts\n",
    "plt.hist(fl_dout, alpha=.6, bins=50)  # density=False would make counts\n",
    "plt.ylabel('frequency')\n",
    "plt.xlabel('Score');\n",
    "plt.show()\n",
    "\n",
    "\n",
    "# plt.hist(ssl_dout, alpha=.6, bins=50)  # density=False would make counts\n",
    "# plt.hist(fl_dout, alpha=.6, bins=50)  # density=False would make counts\n",
    "# plt.ylabel('frequency')\n",
    "# plt.xlabel('Score');\n",
    "# plt.show()\n",
    "\n",
    "\n",
    "\n",
    "# plt.hist(ssl_din, alpha=.6, bins=50)  # density=False would make counts\n",
    "# plt.hist(fl_din, alpha=.6, bins=50)  # density=False would make counts\n",
    "# plt.ylabel('frequency')\n",
    "# plt.xlabel('Score');\n",
    "# plt.show()\n",
    "\n",
    "\n",
    "\n",
    "\n",
    "plt.hist(sp_dout, alpha=.4, bins=50)  # density=False would make counts\n",
    "plt.hist(ssl_dout, alpha=.4, bins=50)\n",
    "plt.hist(fl_dout, alpha=.4, bins=50)# density=False would make counts\n",
    "plt.ylabel('frequency')\n",
    "plt.xlabel('Score');\n",
    "plt.show()\n",
    "\n",
    "\n",
    "\n",
    "# plt.hist(sp_din, alpha=.6, bins=50)  # density=False would make counts\n",
    "# plt.hist(fl_din, alpha=.6, bins=50)  # density=False would make counts\n",
    "# plt.ylabel('frequency')\n",
    "# plt.xlabel('Score');\n",
    "# plt.show()\n",
    "\n",
    "\n",
    "\n",
    "plt.hist(sp_din, alpha=.4, bins=50)  # density=False would make counts\n",
    "plt.hist(ssl_din, alpha=.4, bins=50)\n",
    "plt.hist(fl_din, alpha=.4, bins=50) # density=False would make counts\n",
    "plt.ylabel('frequency')\n",
    "plt.xlabel('Score');\n",
    "plt.show()\n",
    "\n",
    "\n",
    "print(ssl_dout.size)\n",
    "print(fl_dout.size)"
   ]
  },
  {
   "cell_type": "code",
   "execution_count": 54,
   "id": "c92644d0",
   "metadata": {},
   "outputs": [
    {
     "name": "stdout",
     "output_type": "stream",
     "text": [
      "5900.374935925428\n",
      "2349\n",
      "2353\n",
      "1551\n",
      "877\n",
      "[  6  11  12  15  17  36  39  40  42  50  58  61  65  66  70  71  73  77\n",
      "  80  83  89  94  97  98 105 120 134 137 144 145 146 156 164 167 172 185\n",
      " 188 193 197 206 208 215 217 234 238 243 255 256 257 277 278 279 280 286\n",
      " 292 295 298 302 305 313 314 321 324 333 351 353 374 380 383 396 404 410\n",
      " 416 421 426 432 438 446 456 458 459 460 463 470 472 494 497 502 509 511\n",
      " 512 516 517 542 545 547 551 556 559 560 587 590 597 608 616 619 625 632\n",
      " 635 660 663 687 704 705 706 716 719 720 728 731 732 736 739 750 754 764\n",
      " 766 772 777 778 780 788 796 803 804 805 808 809 810 816 817 829 842 861\n",
      " 868 875 883 885 887 889]\n",
      "[  12   13   15   17   42   56   58   65   66   94  156  164  193  215\n",
      "  234  243  254  277  278  280  292  298  313  331  353  383  396  404\n",
      "  416  432  438  446  456  458  472  512  517  542  560  577  608  616\n",
      "  619  622  625  632  663  687  704  705  706  720  736  739  750  766\n",
      "  803  804  805  809  810  817  842  846  858  861  883  890  895  908\n",
      "  920  930  932  956  957  960  965  975  981 1000 1008 1026 1028 1038\n",
      " 1056 1065 1067 1092 1110 1123 1133 1155 1159 1161 1168 1171 1173 1196\n",
      " 1202 1212 1217 1227 1228 1230 1232 1248 1271 1294 1300 1327 1332 1345\n",
      " 1347 1359 1363 1367 1374 1375 1378 1397 1405 1427 1433 1435 1442 1444\n",
      " 1458 1482 1489 1496 1499 1519 1545 1554 1559 1568 1572 1584 1585 1586\n",
      " 1602 1615 1625 1626 1662 1669 1695 1703 1705 1717]\n"
     ]
    }
   ],
   "source": [
    "# find a identical precision rate (TP/(TP+FP))\n",
    "# find a identical fpr \n",
    "Th2 = thresh[3200]\n",
    "print(Th2)\n",
    "sp_fpr_idx = np.where(sp_din > Th)[0]\n",
    "fl_fpr_idx = np.where(fl_din > Th2)[0]\n",
    "print(sp_fpr_idx.size)\n",
    "print(fl_fpr_idx.size)\n",
    "\n",
    "\n",
    "sp_fnr_idx = np.where(sp_dout < Th)[0]\n",
    "fl_fnr_idx = np.where(fl_dout < Th2)[0]\n",
    "print(sp_fnr_idx.size)\n",
    "print(fl_fnr_idx.size)\n",
    "print(sp_fnr_idx[:150])\n",
    "print(fl_fnr_idx[:150])"
   ]
  },
  {
   "cell_type": "code",
   "execution_count": 49,
   "id": "15c47bdd",
   "metadata": {},
   "outputs": [],
   "source": [
    "ood_labels = np.load(\"./supervised_cifar100/labels_ood.npy\")"
   ]
  },
  {
   "cell_type": "code",
   "execution_count": 112,
   "id": "3feed119",
   "metadata": {},
   "outputs": [
    {
     "name": "stdout",
     "output_type": "stream",
     "text": [
      "[ 645  539 3735  341 2155 4977 8243 1912 5668 4909]\n"
     ]
    }
   ],
   "source": [
    "f_change= fl_dout - sp_dout\n",
    "indices = (-f_change).argsort()[:10]\n",
    "print(indices)"
   ]
  },
  {
   "cell_type": "code",
   "execution_count": 55,
   "id": "6888e2cc",
   "metadata": {},
   "outputs": [
    {
     "name": "stdout",
     "output_type": "stream",
     "text": [
      "191\n"
     ]
    }
   ],
   "source": [
    "## find sample index that change from TP to FN. \n",
    "idx_fn_to_tp1 = np.setdiff1d(fl_fnr_idx, sp_fnr_idx)\n",
    "print(idx_fn_to_tp1.size)"
   ]
  },
  {
   "cell_type": "code",
   "execution_count": 99,
   "id": "0f603b05",
   "metadata": {
    "scrolled": false
   },
   "outputs": [
    {
     "name": "stdout",
     "output_type": "stream",
     "text": [
      "865\n",
      "[   6   11   36   39   40   50   61   70   71   73   77   80   83   89\n",
      "   97   98  105  120  134  137  144  145  146  167  172  185  188  197\n",
      "  206  208  217  238  255  256  257  279  286  295  302  305  314  321\n",
      "  324  333  351  374  380  410  421  426  459  460  463  470  494  497\n",
      "  502  509  511  516  545  547  551  556  559  587  590  597  635  660\n",
      "  716  719  728  731  732  754  764  772  777  778  780  788  796  808\n",
      "  816  829  868  875  885  887  889  897  898  933  946  953  971  972\n",
      "  977  987  990 1033 1034 1035 1047 1049 1084 1099 1140 1145 1149 1189\n",
      " 1205 1224 1235 1241 1242 1260 1275 1279 1280 1299 1326 1328 1349 1387\n",
      " 1413 1418 1445 1450 1455 1456 1467 1472 1488 1513 1547 1553 1562 1576\n",
      " 1580 1611 1639 1659 1663 1664 1673 1692 1726 1736 1753 1768 1769 1780\n",
      " 1787 1791 1811 1828 1858 1883 1886 1897 1912 1923 1927 1950 1986 1994\n",
      " 2008 2012 2016 2029 2040 2053 2060 2079 2085 2091 2096 2110 2112 2128\n",
      " 2136 2138 2178 2188 2199 2220 2227 2253 2266 2305 2316 2322 2333 2342\n",
      " 2348 2351 2396 2407 2427 2434 2442 2452 2458 2491 2495 2515 2529 2549\n",
      " 2556 2567 2585 2621 2637 2641 2643 2644 2651 2659 2677 2695 2698 2729\n",
      " 2740 2743 2744 2759 2761 2768 2773 2779 2786 2789 2794 2797 2818 2821\n",
      " 2822 2824 2826 2838 2843 2855 2856 2868 2881 2884 2895 2901 2906 2912\n",
      " 2935 2946 2954 3008 3018 3029 3031 3033 3036 3038 3048 3049 3060 3061\n",
      " 3065 3108 3118 3126 3145 3148 3152 3158 3160 3161 3178 3186 3197 3208\n",
      " 3212 3236 3244 3259 3275 3283 3285 3293 3295 3305 3308 3325 3330 3351\n",
      " 3368 3370 3376 3378 3382 3386 3390 3392 3410 3430 3476 3490 3500 3528\n",
      " 3549 3569 3585 3600 3617 3646 3658 3678 3699 3727 3765 3795 3798 3805\n",
      " 3814 3816 3820 3830 3874 3881 3914 3925 3942 3944 3961 3963 3964 3968\n",
      " 3979 3988 4012 4027 4031 4051 4072 4090 4091 4092 4118 4127 4139 4143\n",
      " 4155 4164 4165 4192 4238 4254 4268 4273 4288 4321 4322 4328 4359 4365\n",
      " 4366 4380 4389 4390 4393 4404 4405 4414 4416 4431 4465 4468 4471 4474\n",
      " 4495 4497 4509 4510 4516 4531 4537 4551 4563 4566 4577 4590 4610 4622\n",
      " 4635 4659 4662 4663 4692 4693 4704 4712 4718 4720 4775 4785 4793 4817\n",
      " 4839 4859 4860 4861 4909 4915 4924 4950 4962]\n",
      "[14 81 11 63 24  6 15 90 67 32 77 78 29 22 37 35 76 10 91 52 95 25 39 51\n",
      " 83 40 83  7 31 93 16 31 58 31  6 78 38 16  7 76 31 32  2  5 37 86  6 96\n",
      " 88 10 58 87 54 97 69 89 11 68 35 36 81 71 30 56 73 10 81  1 61  1 15 97\n",
      " 21 90 68 71 80 24 81  0 64 14 94 97 36 11 96 41 99 96 36 12 55 22 66 10\n",
      " 28 24 70 84 96 13 63 81 78 16 15 72 33 65 61 66  5 92 92 76 28 89 68 28\n",
      " 18  3 58 17  6 38 95 16 44 56 62 53 98 54 13  9 25 69 17 77 84 24 96 68\n",
      " 12 46 20 86 95 59  3 27 12 82 38 20 48 48 53 45 80 59 58 65 47 29 51  7\n",
      " 63 96 53 30 21 93 57 29 20 21 91 49 91 87 62 33  2 22 51  4 98 84 15 72\n",
      " 26 76 45 92 34 50 36 52  9 34 40 94 54 85 81 62 70  9 94 76 22 29 11 78\n",
      " 72 70 80 69 42 71 56 40 88 81 72 43 87 80 15 11  5 10 68 65 91  9 63 50\n",
      " 27 79 78 82 44 41 58  8 70  1 91 71 22 67 81 42 38 79 33 60 92 51 27 50\n",
      "  7 46  0 16 86 93 76 94 15 23 74 36 88 98 31 10 73 90 36  5 13 90 20 63\n",
      " 12 44 43 92 70 51 29 72 90 42 68 43 26 98 80 28  8 12 38 24 84 16 39 62\n",
      " 44 72 22 54 57 10 46 49 44 94 25 97 85 15 21 44 84 43 26 63 51 71 96 47\n",
      " 11 75 92 48 37 62 96 26 71 76 65 48 79  0 63 79 40 69  8 34 51 72  0 87\n",
      " 38  8 57 90 10 49 64  1 51  7 52 15 51 43 94 55  7 22 43 85 27 81 89 63\n",
      " 16 92 24 70 41 24 42 11 66 37 89 28 58 37 54 79 12 93 30 64 76  9 77 75\n",
      " 78 46 94 68 59  4 70]\n",
      "[[ 0  4]\n",
      " [ 1  4]\n",
      " [ 2  2]\n",
      " [ 3  2]\n",
      " [ 4  2]\n",
      " [ 5  4]\n",
      " [ 6  4]\n",
      " [ 7  6]\n",
      " [ 8  4]\n",
      " [ 9  5]\n",
      " [10  8]\n",
      " [11  7]\n",
      " [12  6]\n",
      " [13  3]\n",
      " [14  2]\n",
      " [15  8]\n",
      " [16  7]\n",
      " [17  2]\n",
      " [18  1]\n",
      " [20  4]\n",
      " [21  4]\n",
      " [22  7]\n",
      " [23  1]\n",
      " [24  7]\n",
      " [25  3]\n",
      " [26  4]\n",
      " [27  4]\n",
      " [28  5]\n",
      " [29  5]\n",
      " [30  3]\n",
      " [31  5]\n",
      " [32  2]\n",
      " [33  3]\n",
      " [34  3]\n",
      " [35  2]\n",
      " [36  6]\n",
      " [37  5]\n",
      " [38  6]\n",
      " [39  2]\n",
      " [40  4]\n",
      " [41  3]\n",
      " [42  4]\n",
      " [43  6]\n",
      " [44  6]\n",
      " [45  2]\n",
      " [46  4]\n",
      " [47  2]\n",
      " [48  4]\n",
      " [49  3]\n",
      " [50  3]\n",
      " [51  9]\n",
      " [52  3]\n",
      " [53  3]\n",
      " [54  5]\n",
      " [55  2]\n",
      " [56  3]\n",
      " [57  3]\n",
      " [58  6]\n",
      " [59  3]\n",
      " [60  1]\n",
      " [61  2]\n",
      " [62  5]\n",
      " [63  8]\n",
      " [64  3]\n",
      " [65  4]\n",
      " [66  3]\n",
      " [67  2]\n",
      " [68  7]\n",
      " [69  4]\n",
      " [70  7]\n",
      " [71  6]\n",
      " [72  7]\n",
      " [73  2]\n",
      " [74  1]\n",
      " [75  2]\n",
      " [76  8]\n",
      " [77  3]\n",
      " [78  6]\n",
      " [79  5]\n",
      " [80  5]\n",
      " [81  9]\n",
      " [82  2]\n",
      " [83  2]\n",
      " [84  5]\n",
      " [85  3]\n",
      " [86  3]\n",
      " [87  4]\n",
      " [88  3]\n",
      " [89  4]\n",
      " [90  6]\n",
      " [91  5]\n",
      " [92  7]\n",
      " [93  4]\n",
      " [94  7]\n",
      " [95  3]\n",
      " [96  8]\n",
      " [97  4]\n",
      " [98  4]\n",
      " [99  1]]\n"
     ]
    },
    {
     "data": {
      "image/png": "[encoded data removed]",
      "text/plain": [
       "<Figure size 432x288 with 1 Axes>"
      ]
     },
     "metadata": {
      "needs_background": "light"
     },
     "output_type": "display_data"
    },
    {
     "name": "stdout",
     "output_type": "stream",
     "text": [
      "[8 6 5 8 4]\n",
      "[0 4 3 9 3]\n",
      "(array([  1,  60,  66,  78, 103, 206, 225, 254, 381]),)\n"
     ]
    }
   ],
   "source": [
    "## get sample index that change from FN to TP\n",
    "## get the corresponding label and closest cluster\n",
    "\n",
    "idx_fn_to_tp = np.setdiff1d(sp_fnr_idx, fl_fnr_idx)\n",
    "print(idx_fn_to_tp.size)\n",
    "print(idx_fn_to_tp[:415])\n",
    "# print(ood_labels[fn_to_tp[:415]])\n",
    "label_fn_to_tp = ood_labels[idx_fn_to_tp[:415]]\n",
    "print(label_fn_to_tp)\n",
    "unique, counts = np.unique(label_fn_to_tp, return_counts=True)\n",
    "print(np.asarray((unique, counts)).T)\n",
    "# print(counts)\n",
    "plt.plot(counts)\n",
    "plt.ylabel('frequency')\n",
    "plt.xlabel('class');\n",
    "plt.show()\n",
    "\n",
    "\n",
    "##  cluster \n",
    "sl_cluster_fn_to_tp = sp_idxood[idx_fn_to_tp]\n",
    "fl_cluster_fn_to_tp = fl_idxood[idx_fn_to_tp]\n",
    "# print(sl_cluster_fn_to_tp)\n",
    "# print(fl_cluster_fn_to_tp)\n",
    "d_index = np.where(sl_cluster_fn_to_tp != fl_cluster_fn_to_tp)\n",
    "# print(d_index)\n",
    "print(sl_cluster_fn_to_tp[d_index])\n",
    "print(fl_cluster_fn_to_tp[d_index])\n",
    "\n",
    "print(np.where(label_fn_to_tp == 81))"
   ]
  },
  {
   "cell_type": "code",
   "execution_count": 115,
   "id": "c37c61fc",
   "metadata": {},
   "outputs": [
    {
     "data": {
      "image/png": "[encoded data removed]",
      "text/plain": [
       "<Figure size 432x288 with 1 Axes>"
      ]
     },
     "metadata": {
      "needs_background": "light"
     },
     "output_type": "display_data"
    },
    {
     "data": {
      "image/png": "[encoded data removed]",
      "text/plain": [
       "<Figure size 432x288 with 1 Axes>"
      ]
     },
     "metadata": {
      "needs_background": "light"
     },
     "output_type": "display_data"
    },
    {
     "data": {
      "image/png": "[encoded data removed]",
      "text/plain": [
       "<Figure size 432x288 with 1 Axes>"
      ]
     },
     "metadata": {
      "needs_background": "light"
     },
     "output_type": "display_data"
    }
   ],
   "source": [
    "## visualize one fn -> tp sample feature\n",
    "\n",
    "\n",
    "plt.figure(0).clf()\n",
    "# plt.plot(0.9 * sp_features_ood[50])\n",
    "plt.hist(0.9 * sp_features_ood[50], alpha=.6, bins=100)\n",
    "plt.hist(fl_features_ood[60], alpha=.6, bins=100)\n",
    "plt.show()\n",
    "\n",
    "plt.figure(1).clf()\n",
    "# plt.plot(0.9 * sp_features_ood[50])\n",
    "plt.hist(0.9 * sp_features_ood[6], alpha=.6, bins=100)\n",
    "plt.hist(fl_features_ood[6], alpha=.6, bins=100)\n",
    "plt.show()\n",
    "\n",
    "plt.figure(2).clf()\n",
    "# plt.plot(0.9 * sp_features_ood[50])\n",
    "plt.hist(0.9 * sp_features_ood[11], alpha=.6, bins=100)\n",
    "plt.hist(fl_features_ood[11], alpha=.6, bins=100)\n",
    "plt.show()\n",
    "# plt.figure(1).clf()\n",
    "# # plt.plot(0.1 * ssl_features_ood[50])\n",
    "# plt.hist(0.1 * ssl_features_ood[50], bins=100)\n",
    "# plt.show()\n",
    "\n",
    "\n",
    "# plt.figure(2).clf()\n",
    "# # plt.plot(0.1 * fl_features_ood[50])\n",
    "# plt.hist(fl_features_ood[60], bins=100)\n",
    "# plt.show()"
   ]
  },
  {
   "cell_type": "code",
   "execution_count": 111,
   "id": "2c2746c7",
   "metadata": {},
   "outputs": [
    {
     "name": "stdout",
     "output_type": "stream",
     "text": [
      "2743\n"
     ]
    },
    {
     "data": {
      "image/png": "[encoded data removed]",
      "text/plain": [
       "<Figure size 432x288 with 1 Axes>"
      ]
     },
     "metadata": {
      "needs_background": "light"
     },
     "output_type": "display_data"
    }
   ],
   "source": [
    "ix = idx_fn_to_tp[225]\n",
    "print(ix)\n",
    "\n",
    "# plt.figure(0).clf()\n",
    "# plt.plot(0.9 * sp_features_ood[50])\n",
    "plt.hist(0.9 * sp_features_ood[ix], alpha=.6, bins=15)\n",
    "plt.hist(fl_features_ood[ix], alpha=.6, bins=15)\n",
    "plt.show()"
   ]
  },
  {
   "cell_type": "code",
   "execution_count": null,
   "id": "0013fed5",
   "metadata": {},
   "outputs": [],
   "source": [
    "# ## get false negative index and number\n",
    "# index2 = np.where(sp_dout < Th)[0]\n",
    "# # print(index[:150])\n",
    "# print(index2.size)\n",
    "# # print(ood_labels[:150])"
   ]
  },
  {
   "cell_type": "code",
   "execution_count": 33,
   "id": "df5619c9",
   "metadata": {},
   "outputs": [
    {
     "name": "stdout",
     "output_type": "stream",
     "text": [
      "1551\n"
     ]
    }
   ],
   "source": [
    "# ## get false negative index and number\n",
    "# index2 = np.where(sp_dout < Th)[0]\n",
    "# # print(index[:150])\n",
    "# print(index2.size)\n",
    "# # print(ood_labels[:150])"
   ]
  },
  {
   "cell_type": "code",
   "execution_count": 34,
   "id": "1543bd6d",
   "metadata": {
    "scrolled": false
   },
   "outputs": [
    {
     "data": {
      "text/plain": [
       "348"
      ]
     },
     "execution_count": 34,
     "metadata": {},
     "output_type": "execute_result"
    }
   ],
   "source": [
    "# index1 = np.where(fl_dout < Th)[0]\n",
    "# # print(index1)\n",
    "# index1.size"
   ]
  },
  {
   "cell_type": "code",
   "execution_count": 15,
   "id": "c5bd0f27",
   "metadata": {},
   "outputs": [
    {
     "name": "stdout",
     "output_type": "stream",
     "text": [
      "length of labels is: 20000\n",
      "size of threshold is : [37734.50014502 37733.50014502 30545.55789859 ...  1689.0294869\n",
      "  1687.31400305   875.61908116]\n",
      "size of fpr is : [0.     0.     0.     ... 0.9955 0.9955 1.    ]\n",
      "size of tpr is : [0.000e+00 1.000e-04 1.200e-03 ... 9.999e-01 1.000e+00 1.000e+00]\n"
     ]
    },
    {
     "data": {
      "image/png": "[encoded data removed]",
      "text/plain": [
       "<Figure size 432x288 with 1 Axes>"
      ]
     },
     "metadata": {
      "needs_background": "light"
     },
     "output_type": "display_data"
    }
   ],
   "source": [
    "def get_roc_sklearn_plot1(xin1, xood1, xin2, xood2, xin3, xood3):\n",
    "    \n",
    "    labels1 = [0] * len(xin1) + [1] * len(xood1)\n",
    "    print(\"length of labels is:\", len(labels1))\n",
    "    data1 = np.concatenate((xin1, xood1))\n",
    "    labels2 = [0] * len(xin2) + [1] * len(xood2)\n",
    "    data2 = np.concatenate((xin2, xood2))\n",
    "    labels3 = [0] * len(xin3) + [1] * len(xood3)\n",
    "    data3 = np.concatenate((xin3, xood3))\n",
    "    \n",
    "    plt.figure(0).clf()\n",
    "    fpr, tpr, thresh = roc_curve(labels1, data1)\n",
    "    print(\"size of threshold is :\", thresh)\n",
    "    plt.plot(fpr,tpr,label=\"SL\")\n",
    "    print(\"size of fpr is :\", fpr)\n",
    "    print(\"size of tpr is :\", tpr)\n",
    "    \n",
    "    fpr, tpr, thresh = roc_curve(labels2, data2)\n",
    "    plt.plot(fpr,tpr,label=\"SSL\")\n",
    "    \n",
    "    \n",
    "    fpr, tpr, thresh = roc_curve(labels3, data3)\n",
    "    plt.plot(fpr,tpr,label=\"Ensemble\")\n",
    "    \n",
    "get_roc_sklearn_plot1(sp_din, sp_dout, ssl_din, ssl_dout, fl_din, fl_dout)"
   ]
  },
  {
   "cell_type": "code",
   "execution_count": null,
   "id": "39158ed3",
   "metadata": {},
   "outputs": [],
   "source": [
    "# fn_to_tp = np.setdiff1d(index, index1)\n",
    "# print(fn_to_tp[:150])\n",
    "# print(ood_labels[fn_to_tp[:150]])\n",
    "# print(ood_labels[50])"
   ]
  },
  {
   "cell_type": "code",
   "execution_count": null,
   "id": "80b4cd01",
   "metadata": {
    "scrolled": false
   },
   "outputs": [],
   "source": [
    "## visualize one fn -> tp sample feature\n",
    "\n",
    "plt.figure(0).clf()\n",
    "plt.plot(0.9 * sp_features_ood[50])\n",
    "#     plt.hist(ftrain[60], density=True, bins=100)\n",
    "plt.show()\n",
    "\n",
    "plt.figure(1).clf()\n",
    "plt.plot(0.1 * ssl_features_ood[50])\n",
    "#     plt.hist(ftrain[60], density=True, bins=100)\n",
    "plt.show()\n",
    "\n",
    "\n",
    "plt.figure(1).clf()\n",
    "plt.plot(0.1 * fl_features_ood[50])\n",
    "#     plt.hist(ftrain[60], density=True, bins=100)\n",
    "plt.show()\n"
   ]
  },
  {
   "cell_type": "code",
   "execution_count": null,
   "id": "ef03e6da",
   "metadata": {},
   "outputs": [],
   "source": [
    "## visualize one fn -> tp sample feature\n",
    "\n",
    "plt.figure(0).clf()\n",
    "plt.plot(0.9 * sp_features_ood[257])\n",
    "#     plt.hist(ftrain[60], density=True, bins=100)\n",
    "plt.show()\n",
    "\n",
    "plt.figure(1).clf()\n",
    "plt.plot(0.1 * ssl_features_ood[257])\n",
    "#     plt.hist(ftrain[60], density=True, bins=100)\n",
    "plt.show()\n",
    "\n",
    "\n",
    "plt.figure(1).clf()\n",
    "plt.plot(0.1 * fl_features_ood[257])\n",
    "#     plt.hist(ftrain[60], density=True, bins=100)\n",
    "plt.show()"
   ]
  },
  {
   "cell_type": "code",
   "execution_count": null,
   "id": "1acc6abf",
   "metadata": {},
   "outputs": [],
   "source": [
    "## find the largest values in ssl feature\n",
    "\n",
    "ssl_idx = (-ssl_features_ood[6]).argsort()[:10]\n",
    "ssl_idx"
   ]
  },
  {
   "cell_type": "code",
   "execution_count": null,
   "id": "bd96598f",
   "metadata": {},
   "outputs": [],
   "source": [
    "sp_features_ood[6][986]"
   ]
  },
  {
   "cell_type": "code",
   "execution_count": null,
   "id": "3838925d",
   "metadata": {},
   "outputs": [],
   "source": [
    "ssl_idx = (-ssl_features_ood[17]).argsort()[:10]\n",
    "ssl_idx"
   ]
  },
  {
   "cell_type": "code",
   "execution_count": null,
   "id": "9ce2b25d",
   "metadata": {},
   "outputs": [],
   "source": [
    "a = [1, 2, 3]\n",
    "b = [1]"
   ]
  },
  {
   "cell_type": "code",
   "execution_count": null,
   "id": "9b6c306c",
   "metadata": {},
   "outputs": [],
   "source": []
  }
 ],
 "metadata": {
  "kernelspec": {
   "display_name": "Python 3",
   "language": "python",
   "name": "python3"
  },
  "language_info": {
   "codemirror_mode": {
    "name": "ipython",
    "version": 3
   },
   "file_extension": ".py",
   "mimetype": "text/x-python",
   "name": "python",
   "nbconvert_exporter": "python",
   "pygments_lexer": "ipython3",
   "version": "3.6.10"
  }
 },
 "nbformat": 4,
 "nbformat_minor": 5
}
